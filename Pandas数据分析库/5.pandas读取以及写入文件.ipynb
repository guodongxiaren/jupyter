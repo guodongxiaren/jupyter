{
 "cells": [
  {
   "cell_type": "code",
   "execution_count": 1,
   "metadata": {
    "collapsed": true
   },
   "outputs": [],
   "source": [
    "import pandas as pd\n",
    "import numpy as np"
   ]
  },
  {
   "cell_type": "code",
   "execution_count": 6,
   "metadata": {
    "collapsed": false
   },
   "outputs": [
    {
     "data": {
      "text/html": [
       "<div>\n",
       "<table border=\"1\" class=\"dataframe\">\n",
       "  <thead>\n",
       "    <tr style=\"text-align: right;\">\n",
       "      <th></th>\n",
       "      <th>地点</th>\n",
       "      <th>名字</th>\n",
       "      <th>职位</th>\n",
       "      <th>工资</th>\n",
       "      <th>在职情况</th>\n",
       "    </tr>\n",
       "  </thead>\n",
       "  <tbody>\n",
       "    <tr>\n",
       "      <th>0</th>\n",
       "      <td>北京</td>\n",
       "      <td>小红</td>\n",
       "      <td>渠道合作经理</td>\n",
       "      <td>15000</td>\n",
       "      <td>在职</td>\n",
       "    </tr>\n",
       "    <tr>\n",
       "      <th>1</th>\n",
       "      <td>北京</td>\n",
       "      <td>小明</td>\n",
       "      <td>行政专员</td>\n",
       "      <td>8000</td>\n",
       "      <td>离职</td>\n",
       "    </tr>\n",
       "    <tr>\n",
       "      <th>2</th>\n",
       "      <td>北京</td>\n",
       "      <td>小白</td>\n",
       "      <td>行政专员</td>\n",
       "      <td>9000</td>\n",
       "      <td>在职</td>\n",
       "    </tr>\n",
       "    <tr>\n",
       "      <th>3</th>\n",
       "      <td>上海</td>\n",
       "      <td>小绿</td>\n",
       "      <td>商户经理</td>\n",
       "      <td>12000</td>\n",
       "      <td>在职</td>\n",
       "    </tr>\n",
       "    <tr>\n",
       "      <th>4</th>\n",
       "      <td>上海</td>\n",
       "      <td>小黄</td>\n",
       "      <td>商户经理</td>\n",
       "      <td>10000</td>\n",
       "      <td>离职</td>\n",
       "    </tr>\n",
       "    <tr>\n",
       "      <th>5</th>\n",
       "      <td>上海</td>\n",
       "      <td>小黑</td>\n",
       "      <td>团队长</td>\n",
       "      <td>12000</td>\n",
       "      <td>在职</td>\n",
       "    </tr>\n",
       "    <tr>\n",
       "      <th>6</th>\n",
       "      <td>广州</td>\n",
       "      <td>小紫</td>\n",
       "      <td>渠道合作主管</td>\n",
       "      <td>20000</td>\n",
       "      <td>在职</td>\n",
       "    </tr>\n",
       "    <tr>\n",
       "      <th>7</th>\n",
       "      <td>广州</td>\n",
       "      <td>小粉</td>\n",
       "      <td>渠道合作主管</td>\n",
       "      <td>20000</td>\n",
       "      <td>在职</td>\n",
       "    </tr>\n",
       "    <tr>\n",
       "      <th>8</th>\n",
       "      <td>广州</td>\n",
       "      <td>小青</td>\n",
       "      <td>经理</td>\n",
       "      <td>10000</td>\n",
       "      <td>离职</td>\n",
       "    </tr>\n",
       "    <tr>\n",
       "      <th>9</th>\n",
       "      <td>广州</td>\n",
       "      <td>小蓝</td>\n",
       "      <td>团队长</td>\n",
       "      <td>13000</td>\n",
       "      <td>在职</td>\n",
       "    </tr>\n",
       "  </tbody>\n",
       "</table>\n",
       "</div>"
      ],
      "text/plain": [
       "   地点  名字      职位     工资 在职情况\n",
       "0  北京  小红  渠道合作经理  15000   在职\n",
       "1  北京  小明    行政专员   8000   离职\n",
       "2  北京  小白    行政专员   9000   在职\n",
       "3  上海  小绿    商户经理  12000   在职\n",
       "4  上海  小黄    商户经理  10000   离职\n",
       "5  上海  小黑     团队长  12000   在职\n",
       "6  广州  小紫  渠道合作主管  20000   在职\n",
       "7  广州  小粉  渠道合作主管  20000   在职\n",
       "8  广州  小青      经理  10000   离职\n",
       "9  广州  小蓝     团队长  13000   在职"
      ]
     },
     "execution_count": 6,
     "metadata": {},
     "output_type": "execute_result"
    }
   ],
   "source": [
    "file = pd.read_csv('people.csv', encoding='utf-8')\n",
    "file\n"
   ]
  },
  {
   "cell_type": "code",
   "execution_count": 9,
   "metadata": {
    "collapsed": false
   },
   "outputs": [
    {
     "data": {
      "text/html": [
       "<div>\n",
       "<table border=\"1\" class=\"dataframe\">\n",
       "  <thead>\n",
       "    <tr style=\"text-align: right;\">\n",
       "      <th></th>\n",
       "      <th>地点</th>\n",
       "      <th>名字</th>\n",
       "      <th>职位</th>\n",
       "      <th>工资</th>\n",
       "      <th>在职情况</th>\n",
       "    </tr>\n",
       "  </thead>\n",
       "  <tbody>\n",
       "    <tr>\n",
       "      <th>0</th>\n",
       "      <td>北京</td>\n",
       "      <td>小红</td>\n",
       "      <td>渠道合作经理</td>\n",
       "      <td>15000</td>\n",
       "      <td>在职</td>\n",
       "    </tr>\n",
       "    <tr>\n",
       "      <th>1</th>\n",
       "      <td>北京</td>\n",
       "      <td>小明</td>\n",
       "      <td>行政专员</td>\n",
       "      <td>8000</td>\n",
       "      <td>离职</td>\n",
       "    </tr>\n",
       "    <tr>\n",
       "      <th>2</th>\n",
       "      <td>深圳</td>\n",
       "      <td>小白</td>\n",
       "      <td>行政专员</td>\n",
       "      <td>9000</td>\n",
       "      <td>在职</td>\n",
       "    </tr>\n",
       "    <tr>\n",
       "      <th>3</th>\n",
       "      <td>上海</td>\n",
       "      <td>小绿</td>\n",
       "      <td>商户经理</td>\n",
       "      <td>12000</td>\n",
       "      <td>在职</td>\n",
       "    </tr>\n",
       "    <tr>\n",
       "      <th>4</th>\n",
       "      <td>上海</td>\n",
       "      <td>小黄</td>\n",
       "      <td>商户经理</td>\n",
       "      <td>10000</td>\n",
       "      <td>离职</td>\n",
       "    </tr>\n",
       "    <tr>\n",
       "      <th>5</th>\n",
       "      <td>上海</td>\n",
       "      <td>小黑</td>\n",
       "      <td>团队长</td>\n",
       "      <td>12000</td>\n",
       "      <td>在职</td>\n",
       "    </tr>\n",
       "    <tr>\n",
       "      <th>6</th>\n",
       "      <td>广州</td>\n",
       "      <td>小紫</td>\n",
       "      <td>渠道合作主管</td>\n",
       "      <td>20000</td>\n",
       "      <td>在职</td>\n",
       "    </tr>\n",
       "    <tr>\n",
       "      <th>7</th>\n",
       "      <td>广州</td>\n",
       "      <td>小粉</td>\n",
       "      <td>渠道合作主管</td>\n",
       "      <td>20000</td>\n",
       "      <td>在职</td>\n",
       "    </tr>\n",
       "    <tr>\n",
       "      <th>8</th>\n",
       "      <td>广州</td>\n",
       "      <td>小青</td>\n",
       "      <td>经理</td>\n",
       "      <td>10000</td>\n",
       "      <td>离职</td>\n",
       "    </tr>\n",
       "    <tr>\n",
       "      <th>9</th>\n",
       "      <td>广州</td>\n",
       "      <td>小蓝</td>\n",
       "      <td>团队长</td>\n",
       "      <td>13000</td>\n",
       "      <td>在职</td>\n",
       "    </tr>\n",
       "  </tbody>\n",
       "</table>\n",
       "</div>"
      ],
      "text/plain": [
       "   地点  名字      职位     工资 在职情况\n",
       "0  北京  小红  渠道合作经理  15000   在职\n",
       "1  北京  小明    行政专员   8000   离职\n",
       "2  深圳  小白    行政专员   9000   在职\n",
       "3  上海  小绿    商户经理  12000   在职\n",
       "4  上海  小黄    商户经理  10000   离职\n",
       "5  上海  小黑     团队长  12000   在职\n",
       "6  广州  小紫  渠道合作主管  20000   在职\n",
       "7  广州  小粉  渠道合作主管  20000   在职\n",
       "8  广州  小青      经理  10000   离职\n",
       "9  广州  小蓝     团队长  13000   在职"
      ]
     },
     "execution_count": 9,
     "metadata": {},
     "output_type": "execute_result"
    }
   ],
   "source": [
    "file.iloc[2,0] = '深圳'\n",
    "file"
   ]
  },
  {
   "cell_type": "code",
   "execution_count": 12,
   "metadata": {
    "collapsed": false
   },
   "outputs": [],
   "source": [
    "file.to_csv('people2.csv', encoding='utf-8')"
   ]
  },
  {
   "cell_type": "code",
   "execution_count": null,
   "metadata": {
    "collapsed": false
   },
   "outputs": [],
   "source": [
    "file.to_json('people.json', force_ascii=False)"
   ]
  },
  {
   "cell_type": "code",
   "execution_count": null,
   "metadata": {
    "collapsed": true
   },
   "outputs": [],
   "source": []
  }
 ],
 "metadata": {
  "kernelspec": {
   "display_name": "Python 2",
   "language": "python",
   "name": "python2"
  },
  "language_info": {
   "codemirror_mode": {
    "name": "ipython",
    "version": 2
   },
   "file_extension": ".py",
   "mimetype": "text/x-python",
   "name": "python",
   "nbconvert_exporter": "python",
   "pygments_lexer": "ipython2",
   "version": "2.7.13"
  }
 },
 "nbformat": 4,
 "nbformat_minor": 2
}
