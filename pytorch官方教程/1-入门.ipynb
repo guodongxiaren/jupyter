{
 "cells": [
  {
   "cell_type": "code",
   "execution_count": 20,
   "id": "811dd4c7-eada-4dfa-b8c8-5eb567e1a8b2",
   "metadata": {},
   "outputs": [
    {
     "data": {
      "text/plain": [
       "'/home/wangwei/miniconda3/envs/pytorch/bin/python'"
      ]
     },
     "execution_count": 20,
     "metadata": {},
     "output_type": "execute_result"
    }
   ],
   "source": [
    "import sys\n",
    "sys.executable"
   ]
  },
  {
   "cell_type": "code",
   "execution_count": 2,
   "id": "c3894a89-3d3f-4e1c-b125-1d3001c733ce",
   "metadata": {},
   "outputs": [],
   "source": [
    "import torch"
   ]
  },
  {
   "cell_type": "code",
   "execution_count": 6,
   "id": "7253f872-3a77-42d0-8ac5-abba9283eed7",
   "metadata": {},
   "outputs": [
    {
     "name": "stdout",
     "output_type": "stream",
     "text": [
      "tensor([[ 1.0581e+30,  4.5734e-41, -6.2408e-32],\n",
      "        [ 3.0834e-41,  1.4013e-45,  0.0000e+00],\n",
      "        [ 0.0000e+00,  0.0000e+00,  0.0000e+00],\n",
      "        [ 0.0000e+00,  0.0000e+00,  0.0000e+00],\n",
      "        [-6.2846e-32,  3.0834e-41, -2.1776e-32]])\n"
     ]
    }
   ],
   "source": [
    "# 构造5*3的矩阵，不初始化\n",
    "x = torch.empty(5, 3)\n",
    "print(x)"
   ]
  },
  {
   "cell_type": "code",
   "execution_count": 7,
   "id": "92c2a13c-4758-4d64-9043-2bd2181f801d",
   "metadata": {},
   "outputs": [
    {
     "name": "stdout",
     "output_type": "stream",
     "text": [
      "tensor([[0.7534, 0.7250, 0.0791],\n",
      "        [0.5055, 0.1938, 0.9893],\n",
      "        [0.4639, 0.8061, 0.9436],\n",
      "        [0.1779, 0.3917, 0.7097],\n",
      "        [0.6815, 0.9625, 0.8980]])\n"
     ]
    }
   ],
   "source": [
    "# 构造5*3的矩阵，随机初始化\n",
    "x = torch.rand(5, 3)\n",
    "print(x)"
   ]
  },
  {
   "cell_type": "code",
   "execution_count": 8,
   "id": "02115572-9e0a-49f6-bf93-75aff68c1b37",
   "metadata": {},
   "outputs": [
    {
     "name": "stdout",
     "output_type": "stream",
     "text": [
      "tensor([[0, 0, 0],\n",
      "        [0, 0, 0],\n",
      "        [0, 0, 0],\n",
      "        [0, 0, 0],\n",
      "        [0, 0, 0]])\n"
     ]
    }
   ],
   "source": [
    "# 构造一个矩阵全为 0，而且数据类型是 long.\n",
    "\n",
    "x = torch.zeros(5, 3, dtype=torch.long)\n",
    "print(x)\n"
   ]
  },
  {
   "cell_type": "code",
   "execution_count": 14,
   "id": "079f1d4e-7eac-4297-98d9-117bfbcb5aad",
   "metadata": {},
   "outputs": [
    {
     "name": "stdout",
     "output_type": "stream",
     "text": [
      "tensor([5.5000, 3.0000])\n"
     ]
    }
   ],
   "source": [
    "# 构造一个张量\n",
    "x = torch.tensor([5.5, 3])\n",
    "print(x)"
   ]
  },
  {
   "cell_type": "code",
   "execution_count": 16,
   "id": "1a1bbddc-65ef-4668-89f4-ea927fdb0548",
   "metadata": {},
   "outputs": [
    {
     "name": "stdout",
     "output_type": "stream",
     "text": [
      "tensor([5.5000, 3.0000])\n",
      "tensor([[1., 1., 1.],\n",
      "        [1., 1., 1.],\n",
      "        [1., 1., 1.],\n",
      "        [1., 1., 1.],\n",
      "        [1., 1., 1.]], dtype=torch.float64)\n",
      "----\n",
      "tensor([[ 1.7586,  0.0839, -0.2988],\n",
      "        [ 0.4176, -1.6826, -0.1452],\n",
      "        [-1.0935,  1.2077, -2.1389],\n",
      "        [ 1.1880, -1.2563,  0.6672],\n",
      "        [ 0.1400,  1.7900,  0.1060]])\n"
     ]
    }
   ],
   "source": [
    "# 使用已有的tensor创建tensor\n",
    "a = x.new_ones(5, 3, dtype=torch.double)\n",
    "print(x)\n",
    "print(a)\n",
    "\n",
    "print('----')\n",
    "b = torch.randn_like(a, dtype=torch.float)\n",
    "print(b) # 只是含有同样的size"
   ]
  },
  {
   "cell_type": "code",
   "execution_count": 19,
   "id": "90ab4e87-17e9-4a89-b1d6-a3456fa4ba92",
   "metadata": {},
   "outputs": [
    {
     "name": "stdout",
     "output_type": "stream",
     "text": [
      "torch.Size([5, 3])\n"
     ]
    }
   ],
   "source": [
    "# 获取维度\n",
    "print(b.size())"
   ]
  },
  {
   "cell_type": "code",
   "execution_count": 28,
   "id": "a80cc36a-1501-4de2-b06a-c7285e1f6d4c",
   "metadata": {},
   "outputs": [
    {
     "data": {
      "text/plain": [
       "tensor([[ 2.4226,  0.1002,  0.2294],\n",
       "        [ 1.3576, -1.1726,  0.6958],\n",
       "        [-0.9049,  1.5331, -1.6621],\n",
       "        [ 1.8670, -1.0410,  0.9820],\n",
       "        [ 0.7725,  2.1376,  0.7860]])"
      ]
     },
     "execution_count": 28,
     "metadata": {},
     "output_type": "execute_result"
    }
   ],
   "source": [
    "x = b\n",
    "y = torch.rand(5, 3)\n",
    "x+y"
   ]
  },
  {
   "cell_type": "code",
   "execution_count": 29,
   "id": "18038386-64b0-4f0f-9d31-169f0f92376c",
   "metadata": {},
   "outputs": [
    {
     "data": {
      "text/plain": [
       "tensor([[ 2.4226,  0.1002,  0.2294],\n",
       "        [ 1.3576, -1.1726,  0.6958],\n",
       "        [-0.9049,  1.5331, -1.6621],\n",
       "        [ 1.8670, -1.0410,  0.9820],\n",
       "        [ 0.7725,  2.1376,  0.7860]])"
      ]
     },
     "execution_count": 29,
     "metadata": {},
     "output_type": "execute_result"
    }
   ],
   "source": [
    "torch.add(x, y)"
   ]
  },
  {
   "cell_type": "code",
   "execution_count": 30,
   "id": "4e950364-f27a-4e89-87db-f12770ac46eb",
   "metadata": {},
   "outputs": [
    {
     "data": {
      "text/plain": [
       "tensor([[ 2.4226,  0.1002,  0.2294],\n",
       "        [ 1.3576, -1.1726,  0.6958],\n",
       "        [-0.9049,  1.5331, -1.6621],\n",
       "        [ 1.8670, -1.0410,  0.9820],\n",
       "        [ 0.7725,  2.1376,  0.7860]])"
      ]
     },
     "execution_count": 30,
     "metadata": {},
     "output_type": "execute_result"
    }
   ],
   "source": [
    "result = torch.empty(5, 3)\n",
    "torch.add(x, y, out=result)\n",
    "result"
   ]
  },
  {
   "cell_type": "code",
   "execution_count": 31,
   "id": "00e50bea-3e28-4c60-9193-8ea7eb43529f",
   "metadata": {},
   "outputs": [
    {
     "data": {
      "text/plain": [
       "tensor([[ 2.4226,  0.1002,  0.2294],\n",
       "        [ 1.3576, -1.1726,  0.6958],\n",
       "        [-0.9049,  1.5331, -1.6621],\n",
       "        [ 1.8670, -1.0410,  0.9820],\n",
       "        [ 0.7725,  2.1376,  0.7860]])"
      ]
     },
     "execution_count": 31,
     "metadata": {},
     "output_type": "execute_result"
    }
   ],
   "source": [
    "y.add_(x)\n",
    "y"
   ]
  },
  {
   "cell_type": "code",
   "execution_count": 35,
   "id": "b137a654-7b79-4e8b-9abc-fd632b0a3b55",
   "metadata": {},
   "outputs": [
    {
     "name": "stdout",
     "output_type": "stream",
     "text": [
      "tensor([[ 1.7586,  0.0839, -0.2988],\n",
      "        [ 0.4176, -1.6826, -0.1452],\n",
      "        [-1.0935,  1.2077, -2.1389],\n",
      "        [ 1.1880, -1.2563,  0.6672],\n",
      "        [ 0.1400,  1.7900,  0.1060]])\n",
      "tensor([ 0.0839, -1.6826,  1.2077, -1.2563,  1.7900])\n"
     ]
    }
   ],
   "source": [
    "print(x)\n",
    "# 类似Numpy的索引操作\n",
    "print(x[:, 1])"
   ]
  },
  {
   "cell_type": "code",
   "execution_count": 37,
   "id": "574faf3c-b41c-4476-99bb-43d3b6f2a78b",
   "metadata": {},
   "outputs": [
    {
     "name": "stdout",
     "output_type": "stream",
     "text": [
      "torch.Size([4, 4]) torch.Size([16]) torch.Size([2, 8])\n"
     ]
    }
   ],
   "source": [
    "x = torch.randn(4, 4)\n",
    "# view是把tensor按行优先的方式调整形状\n",
    "y = x.view(16) # 16行\n",
    "z = x.view(-1, 8) # 8列。-1表上的行会自动算\n",
    "print(x.size(), y.size(), z.size())"
   ]
  },
  {
   "cell_type": "code",
   "execution_count": 38,
   "id": "c0fe1db7-2769-4b86-8790-cce4443a9c53",
   "metadata": {},
   "outputs": [
    {
     "name": "stdout",
     "output_type": "stream",
     "text": [
      "tensor([-0.3323])\n",
      "-0.3322658836841583\n"
     ]
    }
   ],
   "source": [
    "x = torch.randn(1)\n",
    "print(x)\n",
    "print(x.item())"
   ]
  },
  {
   "cell_type": "code",
   "execution_count": null,
   "id": "6e6b59c7-b84b-4427-8426-d7f934dd3483",
   "metadata": {},
   "outputs": [],
   "source": []
  }
 ],
 "metadata": {
  "kernelspec": {
   "display_name": "Python 3",
   "language": "python",
   "name": "python3"
  },
  "language_info": {
   "codemirror_mode": {
    "name": "ipython",
    "version": 3
   },
   "file_extension": ".py",
   "mimetype": "text/x-python",
   "name": "python",
   "nbconvert_exporter": "python",
   "pygments_lexer": "ipython3",
   "version": "3.9.7"
  }
 },
 "nbformat": 4,
 "nbformat_minor": 5
}
