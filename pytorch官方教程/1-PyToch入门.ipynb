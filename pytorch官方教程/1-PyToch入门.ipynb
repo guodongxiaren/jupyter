{
 "cells": [
  {
   "cell_type": "code",
   "execution_count": 1,
   "id": "811dd4c7-eada-4dfa-b8c8-5eb567e1a8b2",
   "metadata": {},
   "outputs": [
    {
     "data": {
      "text/plain": [
       "'/home/wangwei/miniconda3/envs/pytorch/bin/python'"
      ]
     },
     "execution_count": 1,
     "metadata": {},
     "output_type": "execute_result"
    }
   ],
   "source": [
    "import sys\n",
    "sys.executable\n"
   ]
  },
  {
   "cell_type": "code",
   "execution_count": 2,
   "id": "c3894a89-3d3f-4e1c-b125-1d3001c733ce",
   "metadata": {},
   "outputs": [],
   "source": [
    "import torch"
   ]
  },
  {
   "cell_type": "code",
   "execution_count": 6,
   "id": "7253f872-3a77-42d0-8ac5-abba9283eed7",
   "metadata": {},
   "outputs": [
    {
     "name": "stdout",
     "output_type": "stream",
     "text": [
      "tensor([[ 1.0581e+30,  4.5734e-41, -6.2408e-32],\n",
      "        [ 3.0834e-41,  1.4013e-45,  0.0000e+00],\n",
      "        [ 0.0000e+00,  0.0000e+00,  0.0000e+00],\n",
      "        [ 0.0000e+00,  0.0000e+00,  0.0000e+00],\n",
      "        [-6.2846e-32,  3.0834e-41, -2.1776e-32]])\n"
     ]
    }
   ],
   "source": [
    "# 构造5*3的矩阵，不初始化\n",
    "x = torch.empty(5, 3)\n",
    "print(x)"
   ]
  },
  {
   "cell_type": "code",
   "execution_count": 7,
   "id": "92c2a13c-4758-4d64-9043-2bd2181f801d",
   "metadata": {},
   "outputs": [
    {
     "name": "stdout",
     "output_type": "stream",
     "text": [
      "tensor([[0.7534, 0.7250, 0.0791],\n",
      "        [0.5055, 0.1938, 0.9893],\n",
      "        [0.4639, 0.8061, 0.9436],\n",
      "        [0.1779, 0.3917, 0.7097],\n",
      "        [0.6815, 0.9625, 0.8980]])\n"
     ]
    }
   ],
   "source": [
    "# 构造5*3的矩阵，随机初始化\n",
    "x = torch.rand(5, 3)\n",
    "print(x)"
   ]
  },
  {
   "cell_type": "code",
   "execution_count": 8,
   "id": "02115572-9e0a-49f6-bf93-75aff68c1b37",
   "metadata": {},
   "outputs": [
    {
     "name": "stdout",
     "output_type": "stream",
     "text": [
      "tensor([[0, 0, 0],\n",
      "        [0, 0, 0],\n",
      "        [0, 0, 0],\n",
      "        [0, 0, 0],\n",
      "        [0, 0, 0]])\n"
     ]
    }
   ],
   "source": [
    "# 构造一个矩阵全为 0，而且数据类型是 long.\n",
    "\n",
    "x = torch.zeros(5, 3, dtype=torch.long)\n",
    "print(x)\n"
   ]
  },
  {
   "cell_type": "code",
   "execution_count": 14,
   "id": "079f1d4e-7eac-4297-98d9-117bfbcb5aad",
   "metadata": {},
   "outputs": [
    {
     "name": "stdout",
     "output_type": "stream",
     "text": [
      "tensor([5.5000, 3.0000])\n"
     ]
    }
   ],
   "source": [
    "# 构造一个张量\n",
    "x = torch.tensor([5.5, 3])\n",
    "print(x)"
   ]
  },
  {
   "cell_type": "code",
   "execution_count": 16,
   "id": "1a1bbddc-65ef-4668-89f4-ea927fdb0548",
   "metadata": {},
   "outputs": [
    {
     "name": "stdout",
     "output_type": "stream",
     "text": [
      "tensor([5.5000, 3.0000])\n",
      "tensor([[1., 1., 1.],\n",
      "        [1., 1., 1.],\n",
      "        [1., 1., 1.],\n",
      "        [1., 1., 1.],\n",
      "        [1., 1., 1.]], dtype=torch.float64)\n",
      "----\n",
      "tensor([[ 1.7586,  0.0839, -0.2988],\n",
      "        [ 0.4176, -1.6826, -0.1452],\n",
      "        [-1.0935,  1.2077, -2.1389],\n",
      "        [ 1.1880, -1.2563,  0.6672],\n",
      "        [ 0.1400,  1.7900,  0.1060]])\n"
     ]
    }
   ],
   "source": [
    "# 使用已有的tensor创建tensor\n",
    "a = x.new_ones(5, 3, dtype=torch.double)\n",
    "print(x)\n",
    "print(a)\n",
    "\n",
    "print('----')\n",
    "b = torch.randn_like(a, dtype=torch.float)\n",
    "print(b) # 只是含有同样的size"
   ]
  },
  {
   "cell_type": "code",
   "execution_count": 19,
   "id": "90ab4e87-17e9-4a89-b1d6-a3456fa4ba92",
   "metadata": {},
   "outputs": [
    {
     "name": "stdout",
     "output_type": "stream",
     "text": [
      "torch.Size([5, 3])\n"
     ]
    }
   ],
   "source": [
    "# 获取维度\n",
    "print(b.size())"
   ]
  },
  {
   "cell_type": "code",
   "execution_count": null,
   "id": "a80cc36a-1501-4de2-b06a-c7285e1f6d4c",
   "metadata": {},
   "outputs": [],
   "source": []
  }
 ],
 "metadata": {
  "kernelspec": {
   "display_name": "Python 3",
   "language": "python",
   "name": "python3"
  },
  "language_info": {
   "codemirror_mode": {
    "name": "ipython",
    "version": 3
   },
   "file_extension": ".py",
   "mimetype": "text/x-python",
   "name": "python",
   "nbconvert_exporter": "python",
   "pygments_lexer": "ipython3",
   "version": "3.9.7"
  }
 },
 "nbformat": 4,
 "nbformat_minor": 5
}
